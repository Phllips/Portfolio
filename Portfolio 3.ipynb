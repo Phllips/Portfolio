{
 "cells": [
  {
   "cell_type": "markdown",
   "metadata": {},
   "source": [
    "# Portfolio 3 - Clustering Visualisation"
   ]
  },
  {
   "cell_type": "markdown",
   "metadata": {},
   "source": [
    "K-means clustering is one of the simplest and popular unsupervised learning algorithms. Typically, unsupervised algorithms make inferences from datasets using only input vectors without referring to known, or labelled, outcomes. This notebook illustrates the process of K-means clustering by generating some random clusters of data and then showing the iterations of the algorithm as random cluster means are updated. "
   ]
  },
  {
   "cell_type": "markdown",
   "metadata": {},
   "source": [
    "We first generate random data around 4 centers."
   ]
  },
  {
   "cell_type": "code",
   "execution_count": 64,
   "metadata": {},
   "outputs": [],
   "source": [
    "import numpy as np \n",
    "import pandas as pd \n",
    "from matplotlib import pyplot as plt\n",
    "%matplotlib inline\n",
    "from sklearn.cluster import KMeans\n",
    "import seaborn as sns\n"
   ]
  },
  {
   "cell_type": "code",
   "execution_count": 49,
   "metadata": {
    "scrolled": true
   },
   "outputs": [
    {
     "name": "stdout",
     "output_type": "stream",
     "text": [
      "[1 2]\n"
     ]
    },
    {
     "data": {
      "image/png": "[encoded data removed]",
      "text/plain": [
       "<Figure size 432x288 with 1 Axes>"
      ]
     },
     "metadata": {
      "needs_background": "light"
     },
     "output_type": "display_data"
    }
   ],
   "source": [
    "center_1 = np.array([1,2])\n",
    "center_2 = np.array([6,6])\n",
    "center_3 = np.array([9,1])\n",
    "center_4 = np.array([-5,-1])\n",
    "print(center_1)\n",
    "\n",
    "# Generate random data and center it to the four centers each with a different variance\n",
    "np.random.seed(5)\n",
    "data_1 = np.random.randn(200,2) * 1.5 + center_1\n",
    "data_2 = np.random.randn(200,2) * 1 + center_2\n",
    "data_3 = np.random.randn(200,2) * 0.5 + center_3\n",
    "data_4 = np.random.randn(200,2) * 0.8 + center_4\n",
    "\n",
    "data = np.concatenate((data_1, data_2, data_3, data_4), axis = 0)\n",
    "\n",
    "plt.scatter(data[:,0], data[:,1], s=7, c='k')\n",
    "plt.show()"
   ]
  },
  {
   "cell_type": "markdown",
   "metadata": {},
   "source": [
    "## 1. Generate random cluster centres\n",
    "\n",
    "You need to generate four random centres.\n",
    "\n",
    "This part of portfolio should contain at least:  \n",
    "- The number of clusters `k` is set to 4;\n",
    "- Generate random centres via `centres = np.random.randn(k,c)*std + mean` where `std` and `mean` are the standard deviation and mean of the data. `c` represents the number of features in the data. Set the random seed to 6.\n",
    "- Color the generated centers with `green`, `blue`, `yellow`, and `cyan`. Set the edgecolors to `red`."
   ]
  },
  {
   "cell_type": "code",
   "execution_count": 77,
   "metadata": {},
   "outputs": [
    {
     "name": "stdout",
     "output_type": "stream",
     "text": [
      "[[ 1.0430169   5.53863665]\n",
      " [ 3.33061168 -1.4938254 ]\n",
      " [-8.35175241  6.33448312]\n",
      " [ 7.25803215 -4.15028729]]\n"
     ]
    },
    {
     "data": {
      "image/png": "[encoded data removed]",
      "text/plain": [
       "<Figure size 432x288 with 1 Axes>"
      ]
     },
     "metadata": {
      "needs_background": "light"
     },
     "output_type": "display_data"
    },
    {
     "name": "stdout",
     "output_type": "stream",
     "text": [
      "[1.0430169  5.53863665]\n"
     ]
    }
   ],
   "source": [
    "\n",
    "std0 = np.std(data)\n",
    "mean0 = np.mean(data)\n",
    "\n",
    "np.random.seed(6)\n",
    "\n",
    "centres  = np.random.randn(4,2)*std0 + mean0\n",
    "\n",
    "print(centres)\n",
    "\n",
    "plt.scatter(centres[:,0], centres[:,1], s=100, c=['g','b','y','c'],edgecolors='r')\n",
    "\n",
    "plt.show()\n",
    "\n",
    "\n"
   ]
  },
  {
   "cell_type": "markdown",
   "metadata": {},
   "source": [
    "## 2. Visualise the clustering results in each iteration"
   ]
  },
  {
   "cell_type": "markdown",
   "metadata": {},
   "source": [
    "You need to implement the process of k-means clustering.  Implement each iteration as a seperate cell, assigning each data point to the closest centre, then updating the cluster centres based on the data, then plot the new clusters.\n",
    "\n",
    "Replace this text with your explaination of the algorithm.  The resulting notebook should provide a good explanation and demonstration of the K-means algorithm."
   ]
  },
  {
   "cell_type": "code",
   "execution_count": null,
   "metadata": {
    "scrolled": true
   },
   "outputs": [],
   "source": [
    "\n"
   ]
  },
  {
   "cell_type": "code",
   "execution_count": null,
   "metadata": {},
   "outputs": [],
   "source": []
  },
  {
   "cell_type": "code",
   "execution_count": null,
   "metadata": {},
   "outputs": [],
   "source": []
  },
  {
   "cell_type": "code",
   "execution_count": null,
   "metadata": {},
   "outputs": [],
   "source": []
  },
  {
   "cell_type": "code",
   "execution_count": null,
   "metadata": {},
   "outputs": [],
   "source": []
  }
 ],
 "metadata": {
  "kernelspec": {
   "display_name": "Python 3",
   "language": "python",
   "name": "python3"
  },
  "language_info": {
   "codemirror_mode": {
    "name": "ipython",
    "version": 3
   },
   "file_extension": ".py",
   "mimetype": "text/x-python",
   "name": "python",
   "nbconvert_exporter": "python",
   "pygments_lexer": "ipython3",
   "version": "3.7.3"
  }
 },
 "nbformat": 4,
 "nbformat_minor": 2
}
